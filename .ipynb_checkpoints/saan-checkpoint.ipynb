{
 "cells": [
  {
   "cell_type": "code",
   "execution_count": 116,
   "metadata": {},
   "outputs": [],
   "source": [
    "import pandas as pd\n",
    "import numpy as np\n",
    "import matplotlib.pyplot as plt\n",
    "import seaborn as sns\n",
    "from pandas_profiling import ProfileReport\n",
    "from sklearn.preprocessing import StandardScaler , OneHotEncoder , LabelEncoder\n",
    "%matplotlib inline"
   ]
  },
  {
   "cell_type": "markdown",
   "metadata": {},
   "source": [
    "## Data Understanding"
   ]
  },
  {
   "cell_type": "code",
   "execution_count": 76,
   "metadata": {},
   "outputs": [],
   "source": [
    "file_data = pd.ExcelFile('Healthcare_dataset.xlsx')\n",
    "data = pd.read_excel(file_data,\"Dataset\")"
   ]
  },
  {
   "cell_type": "code",
   "execution_count": 77,
   "metadata": {},
   "outputs": [
    {
     "data": {
      "text/html": [
       "<div>\n",
       "<style scoped>\n",
       "    .dataframe tbody tr th:only-of-type {\n",
       "        vertical-align: middle;\n",
       "    }\n",
       "\n",
       "    .dataframe tbody tr th {\n",
       "        vertical-align: top;\n",
       "    }\n",
       "\n",
       "    .dataframe thead th {\n",
       "        text-align: right;\n",
       "    }\n",
       "</style>\n",
       "<table border=\"1\" class=\"dataframe\">\n",
       "  <thead>\n",
       "    <tr style=\"text-align: right;\">\n",
       "      <th></th>\n",
       "      <th>Ptid</th>\n",
       "      <th>Persistency_Flag</th>\n",
       "      <th>Gender</th>\n",
       "      <th>Race</th>\n",
       "      <th>Ethnicity</th>\n",
       "      <th>Region</th>\n",
       "      <th>Age_Bucket</th>\n",
       "      <th>Ntm_Speciality</th>\n",
       "      <th>Ntm_Specialist_Flag</th>\n",
       "      <th>Ntm_Speciality_Bucket</th>\n",
       "      <th>...</th>\n",
       "      <th>Risk_Family_History_Of_Osteoporosis</th>\n",
       "      <th>Risk_Low_Calcium_Intake</th>\n",
       "      <th>Risk_Vitamin_D_Insufficiency</th>\n",
       "      <th>Risk_Poor_Health_Frailty</th>\n",
       "      <th>Risk_Excessive_Thinness</th>\n",
       "      <th>Risk_Hysterectomy_Oophorectomy</th>\n",
       "      <th>Risk_Estrogen_Deficiency</th>\n",
       "      <th>Risk_Immobilization</th>\n",
       "      <th>Risk_Recurring_Falls</th>\n",
       "      <th>Count_Of_Risks</th>\n",
       "    </tr>\n",
       "  </thead>\n",
       "  <tbody>\n",
       "    <tr>\n",
       "      <th>0</th>\n",
       "      <td>P1</td>\n",
       "      <td>Persistent</td>\n",
       "      <td>Male</td>\n",
       "      <td>Caucasian</td>\n",
       "      <td>Not Hispanic</td>\n",
       "      <td>West</td>\n",
       "      <td>&gt;75</td>\n",
       "      <td>GENERAL PRACTITIONER</td>\n",
       "      <td>Others</td>\n",
       "      <td>OB/GYN/Others/PCP/Unknown</td>\n",
       "      <td>...</td>\n",
       "      <td>N</td>\n",
       "      <td>N</td>\n",
       "      <td>N</td>\n",
       "      <td>N</td>\n",
       "      <td>N</td>\n",
       "      <td>N</td>\n",
       "      <td>N</td>\n",
       "      <td>N</td>\n",
       "      <td>N</td>\n",
       "      <td>0</td>\n",
       "    </tr>\n",
       "    <tr>\n",
       "      <th>1</th>\n",
       "      <td>P2</td>\n",
       "      <td>Non-Persistent</td>\n",
       "      <td>Male</td>\n",
       "      <td>Asian</td>\n",
       "      <td>Not Hispanic</td>\n",
       "      <td>West</td>\n",
       "      <td>55-65</td>\n",
       "      <td>GENERAL PRACTITIONER</td>\n",
       "      <td>Others</td>\n",
       "      <td>OB/GYN/Others/PCP/Unknown</td>\n",
       "      <td>...</td>\n",
       "      <td>N</td>\n",
       "      <td>N</td>\n",
       "      <td>N</td>\n",
       "      <td>N</td>\n",
       "      <td>N</td>\n",
       "      <td>N</td>\n",
       "      <td>N</td>\n",
       "      <td>N</td>\n",
       "      <td>N</td>\n",
       "      <td>0</td>\n",
       "    </tr>\n",
       "    <tr>\n",
       "      <th>2</th>\n",
       "      <td>P3</td>\n",
       "      <td>Non-Persistent</td>\n",
       "      <td>Female</td>\n",
       "      <td>Other/Unknown</td>\n",
       "      <td>Hispanic</td>\n",
       "      <td>Midwest</td>\n",
       "      <td>65-75</td>\n",
       "      <td>GENERAL PRACTITIONER</td>\n",
       "      <td>Others</td>\n",
       "      <td>OB/GYN/Others/PCP/Unknown</td>\n",
       "      <td>...</td>\n",
       "      <td>N</td>\n",
       "      <td>Y</td>\n",
       "      <td>N</td>\n",
       "      <td>N</td>\n",
       "      <td>N</td>\n",
       "      <td>N</td>\n",
       "      <td>N</td>\n",
       "      <td>N</td>\n",
       "      <td>N</td>\n",
       "      <td>2</td>\n",
       "    </tr>\n",
       "    <tr>\n",
       "      <th>3</th>\n",
       "      <td>P4</td>\n",
       "      <td>Non-Persistent</td>\n",
       "      <td>Female</td>\n",
       "      <td>Caucasian</td>\n",
       "      <td>Not Hispanic</td>\n",
       "      <td>Midwest</td>\n",
       "      <td>&gt;75</td>\n",
       "      <td>GENERAL PRACTITIONER</td>\n",
       "      <td>Others</td>\n",
       "      <td>OB/GYN/Others/PCP/Unknown</td>\n",
       "      <td>...</td>\n",
       "      <td>N</td>\n",
       "      <td>N</td>\n",
       "      <td>N</td>\n",
       "      <td>N</td>\n",
       "      <td>N</td>\n",
       "      <td>N</td>\n",
       "      <td>N</td>\n",
       "      <td>N</td>\n",
       "      <td>N</td>\n",
       "      <td>1</td>\n",
       "    </tr>\n",
       "    <tr>\n",
       "      <th>4</th>\n",
       "      <td>P5</td>\n",
       "      <td>Non-Persistent</td>\n",
       "      <td>Female</td>\n",
       "      <td>Caucasian</td>\n",
       "      <td>Not Hispanic</td>\n",
       "      <td>Midwest</td>\n",
       "      <td>&gt;75</td>\n",
       "      <td>GENERAL PRACTITIONER</td>\n",
       "      <td>Others</td>\n",
       "      <td>OB/GYN/Others/PCP/Unknown</td>\n",
       "      <td>...</td>\n",
       "      <td>N</td>\n",
       "      <td>N</td>\n",
       "      <td>N</td>\n",
       "      <td>N</td>\n",
       "      <td>N</td>\n",
       "      <td>N</td>\n",
       "      <td>N</td>\n",
       "      <td>N</td>\n",
       "      <td>N</td>\n",
       "      <td>1</td>\n",
       "    </tr>\n",
       "  </tbody>\n",
       "</table>\n",
       "<p>5 rows × 69 columns</p>\n",
       "</div>"
      ],
      "text/plain": [
       "  Ptid Persistency_Flag  Gender           Race     Ethnicity   Region  \\\n",
       "0   P1       Persistent    Male      Caucasian  Not Hispanic     West   \n",
       "1   P2   Non-Persistent    Male          Asian  Not Hispanic     West   \n",
       "2   P3   Non-Persistent  Female  Other/Unknown      Hispanic  Midwest   \n",
       "3   P4   Non-Persistent  Female      Caucasian  Not Hispanic  Midwest   \n",
       "4   P5   Non-Persistent  Female      Caucasian  Not Hispanic  Midwest   \n",
       "\n",
       "  Age_Bucket        Ntm_Speciality Ntm_Specialist_Flag  \\\n",
       "0        >75  GENERAL PRACTITIONER              Others   \n",
       "1      55-65  GENERAL PRACTITIONER              Others   \n",
       "2      65-75  GENERAL PRACTITIONER              Others   \n",
       "3        >75  GENERAL PRACTITIONER              Others   \n",
       "4        >75  GENERAL PRACTITIONER              Others   \n",
       "\n",
       "       Ntm_Speciality_Bucket  ... Risk_Family_History_Of_Osteoporosis  \\\n",
       "0  OB/GYN/Others/PCP/Unknown  ...                                   N   \n",
       "1  OB/GYN/Others/PCP/Unknown  ...                                   N   \n",
       "2  OB/GYN/Others/PCP/Unknown  ...                                   N   \n",
       "3  OB/GYN/Others/PCP/Unknown  ...                                   N   \n",
       "4  OB/GYN/Others/PCP/Unknown  ...                                   N   \n",
       "\n",
       "  Risk_Low_Calcium_Intake  Risk_Vitamin_D_Insufficiency  \\\n",
       "0                       N                             N   \n",
       "1                       N                             N   \n",
       "2                       Y                             N   \n",
       "3                       N                             N   \n",
       "4                       N                             N   \n",
       "\n",
       "  Risk_Poor_Health_Frailty Risk_Excessive_Thinness  \\\n",
       "0                        N                       N   \n",
       "1                        N                       N   \n",
       "2                        N                       N   \n",
       "3                        N                       N   \n",
       "4                        N                       N   \n",
       "\n",
       "  Risk_Hysterectomy_Oophorectomy Risk_Estrogen_Deficiency Risk_Immobilization  \\\n",
       "0                              N                        N                   N   \n",
       "1                              N                        N                   N   \n",
       "2                              N                        N                   N   \n",
       "3                              N                        N                   N   \n",
       "4                              N                        N                   N   \n",
       "\n",
       "  Risk_Recurring_Falls Count_Of_Risks  \n",
       "0                    N              0  \n",
       "1                    N              0  \n",
       "2                    N              2  \n",
       "3                    N              1  \n",
       "4                    N              1  \n",
       "\n",
       "[5 rows x 69 columns]"
      ]
     },
     "execution_count": 77,
     "metadata": {},
     "output_type": "execute_result"
    }
   ],
   "source": [
    "data.head()"
   ]
  },
  {
   "cell_type": "code",
   "execution_count": 78,
   "metadata": {},
   "outputs": [
    {
     "data": {
      "text/plain": [
       "Index(['Ptid', 'Persistency_Flag', 'Gender', 'Race', 'Ethnicity', 'Region',\n",
       "       'Age_Bucket', 'Ntm_Speciality', 'Ntm_Specialist_Flag',\n",
       "       'Ntm_Speciality_Bucket', 'Gluco_Record_Prior_Ntm',\n",
       "       'Gluco_Record_During_Rx', 'Dexa_Freq_During_Rx', 'Dexa_During_Rx',\n",
       "       'Frag_Frac_Prior_Ntm', 'Frag_Frac_During_Rx', 'Risk_Segment_Prior_Ntm',\n",
       "       'Tscore_Bucket_Prior_Ntm', 'Risk_Segment_During_Rx',\n",
       "       'Tscore_Bucket_During_Rx', 'Change_T_Score', 'Change_Risk_Segment',\n",
       "       'Adherent_Flag', 'Idn_Indicator', 'Injectable_Experience_During_Rx',\n",
       "       'Comorb_Encounter_For_Screening_For_Malignant_Neoplasms',\n",
       "       'Comorb_Encounter_For_Immunization',\n",
       "       'Comorb_Encntr_For_General_Exam_W_O_Complaint,_Susp_Or_Reprtd_Dx',\n",
       "       'Comorb_Vitamin_D_Deficiency',\n",
       "       'Comorb_Other_Joint_Disorder_Not_Elsewhere_Classified',\n",
       "       'Comorb_Encntr_For_Oth_Sp_Exam_W_O_Complaint_Suspected_Or_Reprtd_Dx',\n",
       "       'Comorb_Long_Term_Current_Drug_Therapy', 'Comorb_Dorsalgia',\n",
       "       'Comorb_Personal_History_Of_Other_Diseases_And_Conditions',\n",
       "       'Comorb_Other_Disorders_Of_Bone_Density_And_Structure',\n",
       "       'Comorb_Disorders_of_lipoprotein_metabolism_and_other_lipidemias',\n",
       "       'Comorb_Osteoporosis_without_current_pathological_fracture',\n",
       "       'Comorb_Personal_history_of_malignant_neoplasm',\n",
       "       'Comorb_Gastro_esophageal_reflux_disease',\n",
       "       'Concom_Cholesterol_And_Triglyceride_Regulating_Preparations',\n",
       "       'Concom_Narcotics', 'Concom_Systemic_Corticosteroids_Plain',\n",
       "       'Concom_Anti_Depressants_And_Mood_Stabilisers',\n",
       "       'Concom_Fluoroquinolones', 'Concom_Cephalosporins',\n",
       "       'Concom_Macrolides_And_Similar_Types',\n",
       "       'Concom_Broad_Spectrum_Penicillins', 'Concom_Anaesthetics_General',\n",
       "       'Concom_Viral_Vaccines', 'Risk_Type_1_Insulin_Dependent_Diabetes',\n",
       "       'Risk_Osteogenesis_Imperfecta', 'Risk_Rheumatoid_Arthritis',\n",
       "       'Risk_Untreated_Chronic_Hyperthyroidism',\n",
       "       'Risk_Untreated_Chronic_Hypogonadism', 'Risk_Untreated_Early_Menopause',\n",
       "       'Risk_Patient_Parent_Fractured_Their_Hip', 'Risk_Smoking_Tobacco',\n",
       "       'Risk_Chronic_Malnutrition_Or_Malabsorption',\n",
       "       'Risk_Chronic_Liver_Disease', 'Risk_Family_History_Of_Osteoporosis',\n",
       "       'Risk_Low_Calcium_Intake', 'Risk_Vitamin_D_Insufficiency',\n",
       "       'Risk_Poor_Health_Frailty', 'Risk_Excessive_Thinness',\n",
       "       'Risk_Hysterectomy_Oophorectomy', 'Risk_Estrogen_Deficiency',\n",
       "       'Risk_Immobilization', 'Risk_Recurring_Falls', 'Count_Of_Risks'],\n",
       "      dtype='object')"
      ]
     },
     "execution_count": 78,
     "metadata": {},
     "output_type": "execute_result"
    }
   ],
   "source": [
    "data.columns"
   ]
  },
  {
   "cell_type": "code",
   "execution_count": 79,
   "metadata": {},
   "outputs": [
    {
     "data": {
      "text/plain": [
       "(3424, 69)"
      ]
     },
     "execution_count": 79,
     "metadata": {},
     "output_type": "execute_result"
    }
   ],
   "source": [
    "data.shape"
   ]
  },
  {
   "cell_type": "code",
   "execution_count": 80,
   "metadata": {
    "scrolled": true
   },
   "outputs": [
    {
     "name": "stdout",
     "output_type": "stream",
     "text": [
      "<class 'pandas.core.frame.DataFrame'>\n",
      "RangeIndex: 3424 entries, 0 to 3423\n",
      "Data columns (total 69 columns):\n",
      " #   Column                                                              Non-Null Count  Dtype \n",
      "---  ------                                                              --------------  ----- \n",
      " 0   Ptid                                                                3424 non-null   object\n",
      " 1   Persistency_Flag                                                    3424 non-null   object\n",
      " 2   Gender                                                              3424 non-null   object\n",
      " 3   Race                                                                3424 non-null   object\n",
      " 4   Ethnicity                                                           3424 non-null   object\n",
      " 5   Region                                                              3424 non-null   object\n",
      " 6   Age_Bucket                                                          3424 non-null   object\n",
      " 7   Ntm_Speciality                                                      3424 non-null   object\n",
      " 8   Ntm_Specialist_Flag                                                 3424 non-null   object\n",
      " 9   Ntm_Speciality_Bucket                                               3424 non-null   object\n",
      " 10  Gluco_Record_Prior_Ntm                                              3424 non-null   object\n",
      " 11  Gluco_Record_During_Rx                                              3424 non-null   object\n",
      " 12  Dexa_Freq_During_Rx                                                 3424 non-null   int64 \n",
      " 13  Dexa_During_Rx                                                      3424 non-null   object\n",
      " 14  Frag_Frac_Prior_Ntm                                                 3424 non-null   object\n",
      " 15  Frag_Frac_During_Rx                                                 3424 non-null   object\n",
      " 16  Risk_Segment_Prior_Ntm                                              3424 non-null   object\n",
      " 17  Tscore_Bucket_Prior_Ntm                                             3424 non-null   object\n",
      " 18  Risk_Segment_During_Rx                                              3424 non-null   object\n",
      " 19  Tscore_Bucket_During_Rx                                             3424 non-null   object\n",
      " 20  Change_T_Score                                                      3424 non-null   object\n",
      " 21  Change_Risk_Segment                                                 3424 non-null   object\n",
      " 22  Adherent_Flag                                                       3424 non-null   object\n",
      " 23  Idn_Indicator                                                       3424 non-null   object\n",
      " 24  Injectable_Experience_During_Rx                                     3424 non-null   object\n",
      " 25  Comorb_Encounter_For_Screening_For_Malignant_Neoplasms              3424 non-null   object\n",
      " 26  Comorb_Encounter_For_Immunization                                   3424 non-null   object\n",
      " 27  Comorb_Encntr_For_General_Exam_W_O_Complaint,_Susp_Or_Reprtd_Dx     3424 non-null   object\n",
      " 28  Comorb_Vitamin_D_Deficiency                                         3424 non-null   object\n",
      " 29  Comorb_Other_Joint_Disorder_Not_Elsewhere_Classified                3424 non-null   object\n",
      " 30  Comorb_Encntr_For_Oth_Sp_Exam_W_O_Complaint_Suspected_Or_Reprtd_Dx  3424 non-null   object\n",
      " 31  Comorb_Long_Term_Current_Drug_Therapy                               3424 non-null   object\n",
      " 32  Comorb_Dorsalgia                                                    3424 non-null   object\n",
      " 33  Comorb_Personal_History_Of_Other_Diseases_And_Conditions            3424 non-null   object\n",
      " 34  Comorb_Other_Disorders_Of_Bone_Density_And_Structure                3424 non-null   object\n",
      " 35  Comorb_Disorders_of_lipoprotein_metabolism_and_other_lipidemias     3424 non-null   object\n",
      " 36  Comorb_Osteoporosis_without_current_pathological_fracture           3424 non-null   object\n",
      " 37  Comorb_Personal_history_of_malignant_neoplasm                       3424 non-null   object\n",
      " 38  Comorb_Gastro_esophageal_reflux_disease                             3424 non-null   object\n",
      " 39  Concom_Cholesterol_And_Triglyceride_Regulating_Preparations         3424 non-null   object\n",
      " 40  Concom_Narcotics                                                    3424 non-null   object\n",
      " 41  Concom_Systemic_Corticosteroids_Plain                               3424 non-null   object\n",
      " 42  Concom_Anti_Depressants_And_Mood_Stabilisers                        3424 non-null   object\n",
      " 43  Concom_Fluoroquinolones                                             3424 non-null   object\n",
      " 44  Concom_Cephalosporins                                               3424 non-null   object\n",
      " 45  Concom_Macrolides_And_Similar_Types                                 3424 non-null   object\n",
      " 46  Concom_Broad_Spectrum_Penicillins                                   3424 non-null   object\n",
      " 47  Concom_Anaesthetics_General                                         3424 non-null   object\n",
      " 48  Concom_Viral_Vaccines                                               3424 non-null   object\n",
      " 49  Risk_Type_1_Insulin_Dependent_Diabetes                              3424 non-null   object\n",
      " 50  Risk_Osteogenesis_Imperfecta                                        3424 non-null   object\n",
      " 51  Risk_Rheumatoid_Arthritis                                           3424 non-null   object\n",
      " 52  Risk_Untreated_Chronic_Hyperthyroidism                              3424 non-null   object\n",
      " 53  Risk_Untreated_Chronic_Hypogonadism                                 3424 non-null   object\n",
      " 54  Risk_Untreated_Early_Menopause                                      3424 non-null   object\n",
      " 55  Risk_Patient_Parent_Fractured_Their_Hip                             3424 non-null   object\n",
      " 56  Risk_Smoking_Tobacco                                                3424 non-null   object\n",
      " 57  Risk_Chronic_Malnutrition_Or_Malabsorption                          3424 non-null   object\n",
      " 58  Risk_Chronic_Liver_Disease                                          3424 non-null   object\n",
      " 59  Risk_Family_History_Of_Osteoporosis                                 3424 non-null   object\n",
      " 60  Risk_Low_Calcium_Intake                                             3424 non-null   object\n",
      " 61  Risk_Vitamin_D_Insufficiency                                        3424 non-null   object\n",
      " 62  Risk_Poor_Health_Frailty                                            3424 non-null   object\n",
      " 63  Risk_Excessive_Thinness                                             3424 non-null   object\n",
      " 64  Risk_Hysterectomy_Oophorectomy                                      3424 non-null   object\n",
      " 65  Risk_Estrogen_Deficiency                                            3424 non-null   object\n",
      " 66  Risk_Immobilization                                                 3424 non-null   object\n",
      " 67  Risk_Recurring_Falls                                                3424 non-null   object\n",
      " 68  Count_Of_Risks                                                      3424 non-null   int64 \n",
      "dtypes: int64(2), object(67)\n",
      "memory usage: 1.8+ MB\n"
     ]
    }
   ],
   "source": [
    "data.info()"
   ]
  },
  {
   "cell_type": "code",
   "execution_count": 81,
   "metadata": {},
   "outputs": [],
   "source": [
    "## Renaming the columns to fit python pep8 standards\n",
    "# Since all variable word are separated with underscore we will only change all letters to lower case.\n",
    "data.columns=[x.lower() for x in data.columns]"
   ]
  },
  {
   "cell_type": "code",
   "execution_count": 82,
   "metadata": {
    "scrolled": true
   },
   "outputs": [
    {
     "data": {
      "text/plain": [
       "Index(['ptid', 'persistency_flag', 'gender', 'race', 'ethnicity', 'region',\n",
       "       'age_bucket', 'ntm_speciality', 'ntm_specialist_flag',\n",
       "       'ntm_speciality_bucket', 'gluco_record_prior_ntm',\n",
       "       'gluco_record_during_rx', 'dexa_freq_during_rx', 'dexa_during_rx',\n",
       "       'frag_frac_prior_ntm', 'frag_frac_during_rx', 'risk_segment_prior_ntm',\n",
       "       'tscore_bucket_prior_ntm', 'risk_segment_during_rx',\n",
       "       'tscore_bucket_during_rx', 'change_t_score', 'change_risk_segment',\n",
       "       'adherent_flag', 'idn_indicator', 'injectable_experience_during_rx',\n",
       "       'comorb_encounter_for_screening_for_malignant_neoplasms',\n",
       "       'comorb_encounter_for_immunization',\n",
       "       'comorb_encntr_for_general_exam_w_o_complaint,_susp_or_reprtd_dx',\n",
       "       'comorb_vitamin_d_deficiency',\n",
       "       'comorb_other_joint_disorder_not_elsewhere_classified',\n",
       "       'comorb_encntr_for_oth_sp_exam_w_o_complaint_suspected_or_reprtd_dx',\n",
       "       'comorb_long_term_current_drug_therapy', 'comorb_dorsalgia',\n",
       "       'comorb_personal_history_of_other_diseases_and_conditions',\n",
       "       'comorb_other_disorders_of_bone_density_and_structure',\n",
       "       'comorb_disorders_of_lipoprotein_metabolism_and_other_lipidemias',\n",
       "       'comorb_osteoporosis_without_current_pathological_fracture',\n",
       "       'comorb_personal_history_of_malignant_neoplasm',\n",
       "       'comorb_gastro_esophageal_reflux_disease',\n",
       "       'concom_cholesterol_and_triglyceride_regulating_preparations',\n",
       "       'concom_narcotics', 'concom_systemic_corticosteroids_plain',\n",
       "       'concom_anti_depressants_and_mood_stabilisers',\n",
       "       'concom_fluoroquinolones', 'concom_cephalosporins',\n",
       "       'concom_macrolides_and_similar_types',\n",
       "       'concom_broad_spectrum_penicillins', 'concom_anaesthetics_general',\n",
       "       'concom_viral_vaccines', 'risk_type_1_insulin_dependent_diabetes',\n",
       "       'risk_osteogenesis_imperfecta', 'risk_rheumatoid_arthritis',\n",
       "       'risk_untreated_chronic_hyperthyroidism',\n",
       "       'risk_untreated_chronic_hypogonadism', 'risk_untreated_early_menopause',\n",
       "       'risk_patient_parent_fractured_their_hip', 'risk_smoking_tobacco',\n",
       "       'risk_chronic_malnutrition_or_malabsorption',\n",
       "       'risk_chronic_liver_disease', 'risk_family_history_of_osteoporosis',\n",
       "       'risk_low_calcium_intake', 'risk_vitamin_d_insufficiency',\n",
       "       'risk_poor_health_frailty', 'risk_excessive_thinness',\n",
       "       'risk_hysterectomy_oophorectomy', 'risk_estrogen_deficiency',\n",
       "       'risk_immobilization', 'risk_recurring_falls', 'count_of_risks'],\n",
       "      dtype='object')"
      ]
     },
     "execution_count": 82,
     "metadata": {},
     "output_type": "execute_result"
    }
   ],
   "source": [
    "data.columns"
   ]
  },
  {
   "cell_type": "code",
   "execution_count": 83,
   "metadata": {},
   "outputs": [
    {
     "data": {
      "text/plain": [
       "Non-Persistent    62.353972\n",
       "Persistent        37.646028\n",
       "Name: persistency_flag, dtype: float64"
      ]
     },
     "execution_count": 83,
     "metadata": {},
     "output_type": "execute_result"
    }
   ],
   "source": [
    "data[\"persistency_flag\"].value_counts()\n",
    "percentage = (data[\"persistency_flag\"].value_counts()/data[\"persistency_flag\"].count()) * 100\n",
    "percentage"
   ]
  },
  {
   "cell_type": "markdown",
   "metadata": {},
   "source": [
    "## Missing values"
   ]
  },
  {
   "cell_type": "code",
   "execution_count": 84,
   "metadata": {},
   "outputs": [
    {
     "data": {
      "text/plain": [
       "ptid                              0\n",
       "persistency_flag                  0\n",
       "gender                            0\n",
       "race                              0\n",
       "ethnicity                         0\n",
       "                                 ..\n",
       "risk_hysterectomy_oophorectomy    0\n",
       "risk_estrogen_deficiency          0\n",
       "risk_immobilization               0\n",
       "risk_recurring_falls              0\n",
       "count_of_risks                    0\n",
       "Length: 69, dtype: int64"
      ]
     },
     "execution_count": 84,
     "metadata": {},
     "output_type": "execute_result"
    }
   ],
   "source": [
    "data.isnull().sum()"
   ]
  },
  {
   "cell_type": "markdown",
   "metadata": {},
   "source": [
    "Good it looks like our data does not have any missing values."
   ]
  },
  {
   "cell_type": "markdown",
   "metadata": {},
   "source": [
    "## Numerical Feature analysis and outlier detection."
   ]
  },
  {
   "cell_type": "code",
   "execution_count": 93,
   "metadata": {
    "scrolled": true
   },
   "outputs": [
    {
     "data": {
      "text/plain": [
       "1    1242\n",
       "0     970\n",
       "2     781\n",
       "3     317\n",
       "4      91\n",
       "5      15\n",
       "6       6\n",
       "7       2\n",
       "Name: count_of_risks, dtype: int64"
      ]
     },
     "execution_count": 93,
     "metadata": {},
     "output_type": "execute_result"
    }
   ],
   "source": [
    "data[\"count_of_risks\"].value_counts().sort_values(ascending=False)"
   ]
  },
  {
   "cell_type": "code",
   "execution_count": 92,
   "metadata": {},
   "outputs": [
    {
     "data": {
      "text/plain": [
       "0      2488\n",
       "5       114\n",
       "6       107\n",
       "7        93\n",
       "8        71\n",
       "4        68\n",
       "10       55\n",
       "12       52\n",
       "3        46\n",
       "14       38\n",
       "9        32\n",
       "11       30\n",
       "1        24\n",
       "2        24\n",
       "13       19\n",
       "20       15\n",
       "16       14\n",
       "18       14\n",
       "22       13\n",
       "26       10\n",
       "24       10\n",
       "15        9\n",
       "17        7\n",
       "30        7\n",
       "21        7\n",
       "28        7\n",
       "36        5\n",
       "19        3\n",
       "32        3\n",
       "42        3\n",
       "34        3\n",
       "25        2\n",
       "39        2\n",
       "58        2\n",
       "52        2\n",
       "48        2\n",
       "88        2\n",
       "50        1\n",
       "108       1\n",
       "44        1\n",
       "110       1\n",
       "54        1\n",
       "72        1\n",
       "68        1\n",
       "69        1\n",
       "23        1\n",
       "118       1\n",
       "37        1\n",
       "27        1\n",
       "29        1\n",
       "33        1\n",
       "35        1\n",
       "45        1\n",
       "146       1\n",
       "40        1\n",
       "81        1\n",
       "38        1\n",
       "66        1\n",
       "Name: dexa_freq_during_rx, dtype: int64"
      ]
     },
     "execution_count": 92,
     "metadata": {},
     "output_type": "execute_result"
    }
   ],
   "source": [
    "data[\"dexa_freq_during_rx\"].value_counts().sort_values(ascending=False)"
   ]
  },
  {
   "cell_type": "code",
   "execution_count": 85,
   "metadata": {},
   "outputs": [
    {
     "name": "stdout",
     "output_type": "stream",
     "text": [
      "Count of risks skweness:  0.8797905232898707\n",
      "Count of risks Kurtosis:  0.9004859968892842\n"
     ]
    }
   ],
   "source": [
    "print(\"Count of risks skweness: \",data[\"count_of_risks\"].skew())\n",
    "print(\"Count of risks Kurtosis: \",data[\"count_of_risks\"].kurt())\n",
    "\n",
    "## Data shows a moderate positive skewed data on this column and fairly platykurtic\n",
    "## Means the data has little outliers"
   ]
  },
  {
   "cell_type": "code",
   "execution_count": 86,
   "metadata": {
    "scrolled": true
   },
   "outputs": [
    {
     "name": "stdout",
     "output_type": "stream",
     "text": [
      "dexa_freq_during_rx skweness:  6.8087302112992285\n",
      "dexa_freq_during_rx Kurtosis:  74.75837754795428\n"
     ]
    }
   ],
   "source": [
    "print(\"dexa_freq_during_rx skweness: \",data[\"dexa_freq_during_rx\"].skew())\n",
    "print(\"dexa_freq_during_rx Kurtosis: \",data[\"dexa_freq_during_rx\"].kurt())\n",
    "## very high positive skewed and also with very high kurtosis(Platykurtic)\n",
    "## This suggests Presence of alot of outliers."
   ]
  },
  {
   "cell_type": "code",
   "execution_count": 103,
   "metadata": {},
   "outputs": [
    {
     "data": {
      "text/plain": [
       "<matplotlib.axes._subplots.AxesSubplot at 0x20e3d10ae88>"
      ]
     },
     "execution_count": 103,
     "metadata": {},
     "output_type": "execute_result"
    },
    {
     "data": {
      "image/png": "[encoded data removed]",
      "text/plain": [
       "<Figure size 1440x720 with 1 Axes>"
      ]
     },
     "metadata": {
      "needs_background": "light"
     },
     "output_type": "display_data"
    }
   ],
   "source": [
    "plt.figure(figsize=(20,10))\n",
    "var =\"count_of_risks\"\n",
    "sns.boxplot(x=var,y =\"persistency_flag\",data=data)"
   ]
  },
  {
   "cell_type": "code",
   "execution_count": 102,
   "metadata": {
    "scrolled": true
   },
   "outputs": [
    {
     "data": {
      "text/plain": [
       "<matplotlib.axes._subplots.AxesSubplot at 0x20e3d094b08>"
      ]
     },
     "execution_count": 102,
     "metadata": {},
     "output_type": "execute_result"
    },
    {
     "data": {
      "image/png": "[encoded data removed]",
      "text/plain": [
       "<Figure size 1440x720 with 1 Axes>"
      ]
     },
     "metadata": {
      "needs_background": "light"
     },
     "output_type": "display_data"
    }
   ],
   "source": [
    "plt.figure(figsize=(20,10))\n",
    "var =\"dexa_freq_during_rx\"\n",
    "sns.boxplot(x=var,y =\"persistency_flag\",data=data)"
   ]
  },
  {
   "cell_type": "code",
   "execution_count": 110,
   "metadata": {},
   "outputs": [
    {
     "name": "stdout",
     "output_type": "stream",
     "text": [
      "outer range (low) of the distribution:\n",
      "[[-0.3707352]\n",
      " [-0.3707352]\n",
      " [-0.3707352]\n",
      " [-0.3707352]\n",
      " [-0.3707352]\n",
      " [-0.3707352]\n",
      " [-0.3707352]\n",
      " [-0.3707352]\n",
      " [-0.3707352]\n",
      " [-0.3707352]]\n",
      "\n",
      "outer range (high) of the distribution:\n",
      "[[ 7.98784109]\n",
      " [ 8.11076133]\n",
      " [ 8.47952205]\n",
      " [ 9.58580421]\n",
      " [10.44624589]\n",
      " [10.44624589]\n",
      " [12.90465068]\n",
      " [13.15049116]\n",
      " [14.13385307]\n",
      " [17.57561978]]\n"
     ]
    }
   ],
   "source": [
    "#standardizing dexa_freq_during_rx data\n",
    "dexa_scaled = StandardScaler().fit_transform(data['dexa_freq_during_rx'][:,np.newaxis]);\n",
    "low_range = dexa_scaled[dexa_scaled[:,0].argsort()][:10]\n",
    "high_range= dexa_scaled[dexa_scaled[:,0].argsort()][-10:]\n",
    "print('outer range (low) of the distribution:')\n",
    "print(low_range)\n",
    "print('\\nouter range (high) of the distribution:')\n",
    "print(high_range)"
   ]
  },
  {
   "cell_type": "markdown",
   "metadata": {},
   "source": [
    "Low range values are similar and not too far from 0.\n",
    "\n",
    "High range values are far from 0 and the 7.something values are really out of range.\n",
    "\n",
    "These most likely are the outliers"
   ]
  },
  {
   "cell_type": "code",
   "execution_count": 87,
   "metadata": {},
   "outputs": [
    {
     "data": {
      "text/plain": [
       "<matplotlib.axes._subplots.AxesSubplot at 0x20e3c534f88>"
      ]
     },
     "execution_count": 87,
     "metadata": {},
     "output_type": "execute_result"
    },
    {
     "data": {
      "image/png": "[encoded data removed]",
      "text/plain": [
       "<Figure size 432x288 with 1 Axes>"
      ]
     },
     "metadata": {
      "needs_background": "light"
     },
     "output_type": "display_data"
    }
   ],
   "source": [
    "sns.distplot(data[\"dexa_freq_during_rx\"])"
   ]
  },
  {
   "cell_type": "code",
   "execution_count": 88,
   "metadata": {
    "scrolled": false
   },
   "outputs": [
    {
     "data": {
      "text/plain": [
       "<matplotlib.axes._subplots.AxesSubplot at 0x20e3c54dfc8>"
      ]
     },
     "execution_count": 88,
     "metadata": {},
     "output_type": "execute_result"
    },
    {
     "data": {
      "image/png": "[encoded data removed]",
      "text/plain": [
       "<Figure size 432x288 with 1 Axes>"
      ]
     },
     "metadata": {
      "needs_background": "light"
     },
     "output_type": "display_data"
    }
   ],
   "source": [
    "sns.distplot(data[\"count_of_risks\"])"
   ]
  },
  {
   "cell_type": "markdown",
   "metadata": {},
   "source": [
    "## Encoding Columns 39 t0 50"
   ]
  },
  {
   "cell_type": "code",
   "execution_count": 111,
   "metadata": {},
   "outputs": [],
   "source": [
    "## Getting columns 39 to 50\n",
    "sample = data.iloc[:,39:51]"
   ]
  },
  {
   "cell_type": "code",
   "execution_count": 120,
   "metadata": {},
   "outputs": [
    {
     "data": {
      "text/plain": [
       "(3424, 12)"
      ]
     },
     "execution_count": 120,
     "metadata": {},
     "output_type": "execute_result"
    }
   ],
   "source": [
    "sample.shape"
   ]
  },
  {
   "cell_type": "code",
   "execution_count": 119,
   "metadata": {},
   "outputs": [
    {
     "data": {
      "text/html": [
       "<div>\n",
       "<style scoped>\n",
       "    .dataframe tbody tr th:only-of-type {\n",
       "        vertical-align: middle;\n",
       "    }\n",
       "\n",
       "    .dataframe tbody tr th {\n",
       "        vertical-align: top;\n",
       "    }\n",
       "\n",
       "    .dataframe thead th {\n",
       "        text-align: right;\n",
       "    }\n",
       "</style>\n",
       "<table border=\"1\" class=\"dataframe\">\n",
       "  <thead>\n",
       "    <tr style=\"text-align: right;\">\n",
       "      <th></th>\n",
       "      <th>concom_cholesterol_and_triglyceride_regulating_preparations</th>\n",
       "      <th>concom_narcotics</th>\n",
       "      <th>concom_systemic_corticosteroids_plain</th>\n",
       "      <th>concom_anti_depressants_and_mood_stabilisers</th>\n",
       "      <th>concom_fluoroquinolones</th>\n",
       "      <th>concom_cephalosporins</th>\n",
       "      <th>concom_macrolides_and_similar_types</th>\n",
       "      <th>concom_broad_spectrum_penicillins</th>\n",
       "      <th>concom_anaesthetics_general</th>\n",
       "      <th>concom_viral_vaccines</th>\n",
       "      <th>risk_type_1_insulin_dependent_diabetes</th>\n",
       "      <th>risk_osteogenesis_imperfecta</th>\n",
       "    </tr>\n",
       "  </thead>\n",
       "  <tbody>\n",
       "    <tr>\n",
       "      <th>0</th>\n",
       "      <td>0</td>\n",
       "      <td>0</td>\n",
       "      <td>0</td>\n",
       "      <td>0</td>\n",
       "      <td>0</td>\n",
       "      <td>0</td>\n",
       "      <td>0</td>\n",
       "      <td>0</td>\n",
       "      <td>0</td>\n",
       "      <td>0</td>\n",
       "      <td>0</td>\n",
       "      <td>0</td>\n",
       "    </tr>\n",
       "    <tr>\n",
       "      <th>1</th>\n",
       "      <td>0</td>\n",
       "      <td>0</td>\n",
       "      <td>0</td>\n",
       "      <td>0</td>\n",
       "      <td>0</td>\n",
       "      <td>0</td>\n",
       "      <td>0</td>\n",
       "      <td>0</td>\n",
       "      <td>0</td>\n",
       "      <td>0</td>\n",
       "      <td>0</td>\n",
       "      <td>0</td>\n",
       "    </tr>\n",
       "    <tr>\n",
       "      <th>2</th>\n",
       "      <td>1</td>\n",
       "      <td>0</td>\n",
       "      <td>0</td>\n",
       "      <td>0</td>\n",
       "      <td>0</td>\n",
       "      <td>0</td>\n",
       "      <td>0</td>\n",
       "      <td>0</td>\n",
       "      <td>0</td>\n",
       "      <td>0</td>\n",
       "      <td>0</td>\n",
       "      <td>0</td>\n",
       "    </tr>\n",
       "    <tr>\n",
       "      <th>3</th>\n",
       "      <td>0</td>\n",
       "      <td>1</td>\n",
       "      <td>1</td>\n",
       "      <td>0</td>\n",
       "      <td>0</td>\n",
       "      <td>0</td>\n",
       "      <td>0</td>\n",
       "      <td>0</td>\n",
       "      <td>0</td>\n",
       "      <td>1</td>\n",
       "      <td>0</td>\n",
       "      <td>0</td>\n",
       "    </tr>\n",
       "    <tr>\n",
       "      <th>4</th>\n",
       "      <td>0</td>\n",
       "      <td>1</td>\n",
       "      <td>1</td>\n",
       "      <td>1</td>\n",
       "      <td>0</td>\n",
       "      <td>0</td>\n",
       "      <td>0</td>\n",
       "      <td>0</td>\n",
       "      <td>0</td>\n",
       "      <td>0</td>\n",
       "      <td>0</td>\n",
       "      <td>0</td>\n",
       "    </tr>\n",
       "    <tr>\n",
       "      <th>...</th>\n",
       "      <td>...</td>\n",
       "      <td>...</td>\n",
       "      <td>...</td>\n",
       "      <td>...</td>\n",
       "      <td>...</td>\n",
       "      <td>...</td>\n",
       "      <td>...</td>\n",
       "      <td>...</td>\n",
       "      <td>...</td>\n",
       "      <td>...</td>\n",
       "      <td>...</td>\n",
       "      <td>...</td>\n",
       "    </tr>\n",
       "    <tr>\n",
       "      <th>3419</th>\n",
       "      <td>1</td>\n",
       "      <td>1</td>\n",
       "      <td>1</td>\n",
       "      <td>1</td>\n",
       "      <td>1</td>\n",
       "      <td>0</td>\n",
       "      <td>0</td>\n",
       "      <td>0</td>\n",
       "      <td>0</td>\n",
       "      <td>0</td>\n",
       "      <td>0</td>\n",
       "      <td>0</td>\n",
       "    </tr>\n",
       "    <tr>\n",
       "      <th>3420</th>\n",
       "      <td>0</td>\n",
       "      <td>0</td>\n",
       "      <td>0</td>\n",
       "      <td>1</td>\n",
       "      <td>0</td>\n",
       "      <td>1</td>\n",
       "      <td>0</td>\n",
       "      <td>0</td>\n",
       "      <td>0</td>\n",
       "      <td>0</td>\n",
       "      <td>0</td>\n",
       "      <td>0</td>\n",
       "    </tr>\n",
       "    <tr>\n",
       "      <th>3421</th>\n",
       "      <td>1</td>\n",
       "      <td>1</td>\n",
       "      <td>0</td>\n",
       "      <td>0</td>\n",
       "      <td>0</td>\n",
       "      <td>0</td>\n",
       "      <td>0</td>\n",
       "      <td>0</td>\n",
       "      <td>1</td>\n",
       "      <td>0</td>\n",
       "      <td>0</td>\n",
       "      <td>0</td>\n",
       "    </tr>\n",
       "    <tr>\n",
       "      <th>3422</th>\n",
       "      <td>0</td>\n",
       "      <td>1</td>\n",
       "      <td>0</td>\n",
       "      <td>1</td>\n",
       "      <td>0</td>\n",
       "      <td>0</td>\n",
       "      <td>0</td>\n",
       "      <td>0</td>\n",
       "      <td>0</td>\n",
       "      <td>0</td>\n",
       "      <td>0</td>\n",
       "      <td>0</td>\n",
       "    </tr>\n",
       "    <tr>\n",
       "      <th>3423</th>\n",
       "      <td>0</td>\n",
       "      <td>1</td>\n",
       "      <td>0</td>\n",
       "      <td>1</td>\n",
       "      <td>0</td>\n",
       "      <td>0</td>\n",
       "      <td>0</td>\n",
       "      <td>0</td>\n",
       "      <td>0</td>\n",
       "      <td>0</td>\n",
       "      <td>0</td>\n",
       "      <td>0</td>\n",
       "    </tr>\n",
       "  </tbody>\n",
       "</table>\n",
       "<p>3424 rows × 12 columns</p>\n",
       "</div>"
      ],
      "text/plain": [
       "      concom_cholesterol_and_triglyceride_regulating_preparations  \\\n",
       "0                                                     0             \n",
       "1                                                     0             \n",
       "2                                                     1             \n",
       "3                                                     0             \n",
       "4                                                     0             \n",
       "...                                                 ...             \n",
       "3419                                                  1             \n",
       "3420                                                  0             \n",
       "3421                                                  1             \n",
       "3422                                                  0             \n",
       "3423                                                  0             \n",
       "\n",
       "      concom_narcotics  concom_systemic_corticosteroids_plain  \\\n",
       "0                    0                                      0   \n",
       "1                    0                                      0   \n",
       "2                    0                                      0   \n",
       "3                    1                                      1   \n",
       "4                    1                                      1   \n",
       "...                ...                                    ...   \n",
       "3419                 1                                      1   \n",
       "3420                 0                                      0   \n",
       "3421                 1                                      0   \n",
       "3422                 1                                      0   \n",
       "3423                 1                                      0   \n",
       "\n",
       "      concom_anti_depressants_and_mood_stabilisers  concom_fluoroquinolones  \\\n",
       "0                                                0                        0   \n",
       "1                                                0                        0   \n",
       "2                                                0                        0   \n",
       "3                                                0                        0   \n",
       "4                                                1                        0   \n",
       "...                                            ...                      ...   \n",
       "3419                                             1                        1   \n",
       "3420                                             1                        0   \n",
       "3421                                             0                        0   \n",
       "3422                                             1                        0   \n",
       "3423                                             1                        0   \n",
       "\n",
       "      concom_cephalosporins  concom_macrolides_and_similar_types  \\\n",
       "0                         0                                    0   \n",
       "1                         0                                    0   \n",
       "2                         0                                    0   \n",
       "3                         0                                    0   \n",
       "4                         0                                    0   \n",
       "...                     ...                                  ...   \n",
       "3419                      0                                    0   \n",
       "3420                      1                                    0   \n",
       "3421                      0                                    0   \n",
       "3422                      0                                    0   \n",
       "3423                      0                                    0   \n",
       "\n",
       "      concom_broad_spectrum_penicillins  concom_anaesthetics_general  \\\n",
       "0                                     0                            0   \n",
       "1                                     0                            0   \n",
       "2                                     0                            0   \n",
       "3                                     0                            0   \n",
       "4                                     0                            0   \n",
       "...                                 ...                          ...   \n",
       "3419                                  0                            0   \n",
       "3420                                  0                            0   \n",
       "3421                                  0                            1   \n",
       "3422                                  0                            0   \n",
       "3423                                  0                            0   \n",
       "\n",
       "      concom_viral_vaccines  risk_type_1_insulin_dependent_diabetes  \\\n",
       "0                         0                                       0   \n",
       "1                         0                                       0   \n",
       "2                         0                                       0   \n",
       "3                         1                                       0   \n",
       "4                         0                                       0   \n",
       "...                     ...                                     ...   \n",
       "3419                      0                                       0   \n",
       "3420                      0                                       0   \n",
       "3421                      0                                       0   \n",
       "3422                      0                                       0   \n",
       "3423                      0                                       0   \n",
       "\n",
       "      risk_osteogenesis_imperfecta  \n",
       "0                                0  \n",
       "1                                0  \n",
       "2                                0  \n",
       "3                                0  \n",
       "4                                0  \n",
       "...                            ...  \n",
       "3419                             0  \n",
       "3420                             0  \n",
       "3421                             0  \n",
       "3422                             0  \n",
       "3423                             0  \n",
       "\n",
       "[3424 rows x 12 columns]"
      ]
     },
     "execution_count": 119,
     "metadata": {},
     "output_type": "execute_result"
    }
   ],
   "source": [
    "## Encoding the data\n",
    "le= LabelEncoder()\n",
    "sample.apply(le.fit_transform)"
   ]
  },
  {
   "cell_type": "code",
   "execution_count": 121,
   "metadata": {},
   "outputs": [],
   "source": [
    "## Encoding the targer_ variable\n",
    "data[\"persistency_flag\"] = le.fit_transform(data[\"persistency_flag\"])"
   ]
  },
  {
   "cell_type": "code",
   "execution_count": 122,
   "metadata": {},
   "outputs": [
    {
     "data": {
      "text/plain": [
       "0       1\n",
       "1       0\n",
       "2       0\n",
       "3       0\n",
       "4       0\n",
       "       ..\n",
       "3419    1\n",
       "3420    1\n",
       "3421    1\n",
       "3422    0\n",
       "3423    0\n",
       "Name: persistency_flag, Length: 3424, dtype: int32"
      ]
     },
     "execution_count": 122,
     "metadata": {},
     "output_type": "execute_result"
    }
   ],
   "source": [
    "data[\"persistency_flag\"]"
   ]
  },
  {
   "cell_type": "code",
   "execution_count": 123,
   "metadata": {},
   "outputs": [],
   "source": [
    "new_sample = pd.concat([sample,data[\"persistency_flag\"]],axis=1)"
   ]
  },
  {
   "cell_type": "code",
   "execution_count": null,
   "metadata": {},
   "outputs": [],
   "source": [
    "fig, ax = fig.subplots(figsize=(20,10))\n",
    "ax=sample.plot.barh()"
   ]
  },
  {
   "cell_type": "code",
   "execution_count": null,
   "metadata": {},
   "outputs": [],
   "source": []
  }
 ],
 "metadata": {
  "kernelspec": {
   "display_name": "Python 3",
   "language": "python",
   "name": "python3"
  },
  "language_info": {
   "codemirror_mode": {
    "name": "ipython",
    "version": 3
   },
   "file_extension": ".py",
   "mimetype": "text/x-python",
   "name": "python",
   "nbconvert_exporter": "python",
   "pygments_lexer": "ipython3",
   "version": "3.7.6"
  }
 },
 "nbformat": 4,
 "nbformat_minor": 4
}
